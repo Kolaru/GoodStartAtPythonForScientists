{
 "cells": [
  {
   "cell_type": "markdown",
   "metadata": {},
   "source": [
    "# numpy\n",
    "*Think like a vector*\n",
    "## Example 1: Simple integration\n",
    "### Goal\n",
    "\n",
    "Integrate a the function $\\sin(x) + x$ between $0$ and $\\pi$.\n",
    "\n",
    "The should be close to $\\frac{\\pi^2}{2} + 2 = 6.9348$.\n",
    "\n",
    "### Strategy\n",
    "\n",
    "We use the standard tTrapezoidal rule\n",
    "$$\n",
    "\\int_a^b f(x) dx \\approx \\sum_{j = 1}^n \\frac{1}{2} [f(x_{j - 1}) + f(x_j)] (x_j - x_{j-1})\n",
    "$$\n",
    "with $x_j = a + j (b - a)/n$.\n",
    "\n",
    "1. Generate an *array* of $x_j$."
   ]
  },
  {
   "cell_type": "code",
   "execution_count": 3,
   "metadata": {},
   "outputs": [],
   "source": [
    "import numpy as np  # We need the array/maths library\n",
    "\n",
    "xx = np.arange(0, np.pi, 0.001)  # Choose the step\n",
    "xx = np.linspace(0, np.pi, 1000)  # Choose the number of points"
   ]
  },
  {
   "cell_type": "markdown",
   "metadata": {},
   "source": [
    "2. Compute the trapeze area *elementwise*."
   ]
  },
  {
   "cell_type": "code",
   "execution_count": 12,
   "metadata": {},
   "outputs": [],
   "source": [
    "yy = np.sin(xx) + xx  # All operation are done elmentwise\n",
    "\n",
    "# Subarray with yy[begin:end]\n",
    "# We want yy[begin:end - 1] + yy[begin + 1:end]\n",
    "trapezes = 1/2 * (yy[:-1] + yy[1:]) * (xx[1:] - xx[:-1])"
   ]
  },
  {
   "cell_type": "markdown",
   "metadata": {},
   "source": [
    "3. Sum over the array, *reducing* it to single number."
   ]
  },
  {
   "cell_type": "code",
   "execution_count": 14,
   "metadata": {},
   "outputs": [
    {
     "name": "stdout",
     "output_type": "stream",
     "text": [
      "6.93480055231553\n"
     ]
    }
   ],
   "source": [
    "res = np.sum(trapezes)\n",
    "print(res)"
   ]
  },
  {
   "cell_type": "markdown",
   "metadata": {},
   "source": [
    "## Example 2: Ising model\n",
    "### Goal\n",
    "\n",
    "Create a box with $L$ layers, each a $N \\times N$ grid of random spins.\n",
    "\n",
    "The probability of the spins being in the up state in each layer is stored in the file `layer_magnetizations.txt`.\n",
    "\n",
    "Compute the average spin per layer.\n",
    "\n",
    "Compute the total energy, with couplings $J_x = 1$, $J_y = 1.2$ and $J_z = 0.5$.\n",
    "\n",
    "### Strategy\n",
    "1. Create the box with all spins down."
   ]
  },
  {
   "cell_type": "code",
   "execution_count": 5,
   "metadata": {},
   "outputs": [
    {
     "name": "stdout",
     "output_type": "stream",
     "text": [
      "(10, 20, 20)\n",
      "-1\n"
     ]
    }
   ],
   "source": [
    "N = 20\n",
    "L = 10\n",
    "\n",
    "spins = -np.ones((L, N, N), dtype = int)  # Normally you don't care about dtype\n",
    "print(spins.shape)\n",
    "print(spins[1, 1, 1])"
   ]
  },
  {
   "cell_type": "markdown",
   "metadata": {},
   "source": [
    "2. Load the magnetizations from file."
   ]
  },
  {
   "cell_type": "code",
   "execution_count": 13,
   "metadata": {},
   "outputs": [
    {
     "name": "stdout",
     "output_type": "stream",
     "text": [
      "[1.         0.5        0.33333333 0.25       0.2        0.16666667\n",
      " 0.14285714 0.125      0.11111111 0.1       ]\n",
      "(10,)\n"
     ]
    }
   ],
   "source": [
    "up_probabilities = np.loadtxt(\"../magnetizations.txt\")\n",
    "\n",
    "print(up_probabilities)\n",
    "print(up_probabilities.shape)  # Check the size"
   ]
  },
  {
   "cell_type": "markdown",
   "metadata": {},
   "source": [
    "3. Switch the spins according to the given probability."
   ]
  },
  {
   "cell_type": "code",
   "execution_count": 32,
   "metadata": {},
   "outputs": [
    {
     "name": "stdout",
     "output_type": "stream",
     "text": [
      "[1.         0.5        0.33333333 0.25       0.2        0.16666667\n",
      " 0.14285714 0.125      0.11111111 0.1       ]\n",
      "(10,)\n",
      "(10, 1, 1)\n"
     ]
    }
   ],
   "source": [
    "rr = np.random.rand(L, N, N)\n",
    "\n",
    "# ups = rr < up_probabilities  is a broadcast error\n",
    "print(up_probabilities[:, None, None].shape)  # Extend it\n",
    "ups = rr < up_probabilities[:, None, None]\n",
    "\n",
    "# mask indexing\n",
    "spins[ups] = 1\n"
   ]
  },
  {
   "cell_type": "markdown",
   "metadata": {},
   "source": [
    "4. Compute the average spin per layer."
   ]
  },
  {
   "cell_type": "code",
   "execution_count": 34,
   "metadata": {},
   "outputs": [
    {
     "name": "stdout",
     "output_type": "stream",
     "text": [
      "[ 1.    -0.065 -0.35  -0.49  -0.615 -0.665 -0.72  -0.775 -0.8   -0.8  ]\n"
     ]
    }
   ],
   "source": [
    "avg_spins = np.mean(spins, axis=(1, 2))\n",
    "print(avg_spins)"
   ]
  },
  {
   "cell_type": "markdown",
   "metadata": {},
   "source": [
    "5. Compute the total energy from each site energy.\n",
    "\n",
    "$$\n",
    "E_{ijk} = J_x S_{ijk} S_{(i + 1)jk} + J_y S_{ijk} S_{i(j + 1)k} + J_z S_{ijk} S_{ij(k + 1)}.\n",
    "$$"
   ]
  },
  {
   "cell_type": "code",
   "execution_count": 40,
   "metadata": {},
   "outputs": [
    {
     "name": "stdout",
     "output_type": "stream",
     "text": [
      "5170.4\n"
     ]
    }
   ],
   "source": [
    "Jx = 1\n",
    "Jy = 1.2\n",
    "Jz = 0.5\n",
    "\n",
    "energies = np.zeros(spins.shape)\n",
    "\n",
    "energies[:-1, :, :] += Jx * spins[:-1, :, :] * spins[1:, :, :]\n",
    "energies[:, :-1, :] += Jy * spins[:, :-1, :] * spins[:, 1:, :]\n",
    "energies[:, :, :-1] += Jz * spins[:, :, 1:] * spins[:, :, 1:]\n",
    "\n",
    "Etot = np.sum(energies)\n",
    "print(Etot)"
   ]
  }
 ],
 "metadata": {
  "kernelspec": {
   "display_name": "base",
   "language": "python",
   "name": "python3"
  },
  "language_info": {
   "codemirror_mode": {
    "name": "ipython",
    "version": 3
   },
   "file_extension": ".py",
   "mimetype": "text/x-python",
   "name": "python",
   "nbconvert_exporter": "python",
   "pygments_lexer": "ipython3",
   "version": "3.9.12"
  }
 },
 "nbformat": 4,
 "nbformat_minor": 2
}
