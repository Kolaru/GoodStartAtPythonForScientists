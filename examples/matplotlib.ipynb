{
 "cells": [
  {
   "cell_type": "markdown",
   "metadata": {},
   "source": [
    "# matplotlib\n",
    "*Plot everything*\n",
    "\n",
    "## Example 1: Plot for yourself\n",
    "\n",
    "Plot something."
   ]
  },
  {
   "cell_type": "markdown",
   "metadata": {},
   "source": [
    "## Example 2: Plot for publication\n",
    "\n",
    "### Goal\n",
    "\n",
    "Have a nice self contained plot, with labels, legends and multiple panels.\n",
    "\n",
    "### Strategy\n",
    "1. Create the *figure* and the *axes*."
   ]
  },
  {
   "cell_type": "markdown",
   "metadata": {},
   "source": [
    "2. Add elements to the *axes* using the object approach."
   ]
  },
  {
   "cell_type": "code",
   "execution_count": null,
   "metadata": {},
   "outputs": [],
   "source": [
    "def potential(x, x0):\n",
    "    return -1 / np.abs(x) - 1 / np.abs(x - x0)\n",
    "\n",
    "x0s = [2.2658, 6.616992901, 9.861570409]\n",
    "xx = np.linspace(-5, 15, 1000)"
   ]
  },
  {
   "cell_type": "markdown",
   "metadata": {},
   "source": [
    "3. Fix the axes."
   ]
  },
  {
   "cell_type": "markdown",
   "metadata": {},
   "source": [
    "4. Save the figure."
   ]
  },
  {
   "cell_type": "markdown",
   "metadata": {},
   "source": [
    "## Example 3: The full example for reference"
   ]
  },
  {
   "cell_type": "code",
   "execution_count": 1,
   "metadata": {},
   "outputs": [
    {
     "data": {
      "text/plain": [
       "<matplotlib.legend.Legend at 0x23eca222a30>"
      ]
     },
     "execution_count": 1,
     "metadata": {},
     "output_type": "execute_result"
    },
    {
     "data": {
      "image/png": "[encoded data removed]",
      "text/plain": [
       "<Figure size 1080x360 with 3 Axes>"
      ]
     },
     "metadata": {},
     "output_type": "display_data"
    }
   ],
   "source": [
    "import numpy as np\n",
    "from matplotlib import pyplot as plt\n",
    "\n",
    "\n",
    "def potential(x, x0):\n",
    "    return -1 / np.abs(x) - 1 / np.abs(x - x0)\n",
    "\n",
    "\n",
    "fig, axes = plt.subplots(\n",
    "    1, 3,\n",
    "    sharey=True,\n",
    "    figsize=(15, 5),\n",
    "    facecolor = \"white\")\n",
    "\n",
    "x0s = [2.2658, 6.616992901, 9.861570409]\n",
    "Clevels = [\n",
    "    (-0.77155, -5, 5),\n",
    "    (-0.48133, -5, 10),\n",
    "    (-0.4316, -5, 5)]\n",
    "Hlevels = [\n",
    "    (-0.94135, -5, 5),\n",
    "    (-0.65113, 3, 10),\n",
    "    (-0.6014, 5, 15)]\n",
    "\n",
    "labels = [\"A\", \"B\", \"C\"]\n",
    "\n",
    "xx = np.linspace(-5, 15, 1000)\n",
    "\n",
    "for (ax, x0, Clevel, Hlevel, label) in zip(axes, x0s, Clevels, Hlevels, labels):\n",
    "    ax.text(\n",
    "        0.07, 0.93, label,\n",
    "        transform=ax.transAxes,\n",
    "        va=\"center\", ha=\"center\",\n",
    "        fontsize=12,\n",
    "        fontweight=\"bold\")\n",
    "\n",
    "    ax.fill_between(\n",
    "        xx, -100, potential(xx, x0),\n",
    "        color=\"#e6b7a3\")\n",
    "\n",
    "    ax.plot(\n",
    "        xx, potential(xx, x0),\n",
    "        zorder=-200,\n",
    "        color=\"#e6b7a3\",\n",
    "        label=\"$V(x)$\")\n",
    "\n",
    "    ax.plot(\n",
    "        Clevel[1:3],\n",
    "        [Clevel[0], Clevel[0]],\n",
    "        color=\"black\",\n",
    "        linestyle=\"dashed\",\n",
    "        zorder=-100,\n",
    "        label=\"$E_D(C 2p)$\")\n",
    "    \n",
    "    ax.plot(\n",
    "        [0], [-1.1],\n",
    "        marker=\".\",\n",
    "        color=\"black\"\n",
    "    )\n",
    "    ax.annotate(\"C\", (0, -1.05), ha=\"center\")\n",
    "\n",
    "    ax.plot(\n",
    "        Hlevel[1:3],\n",
    "        [Hlevel[0], Hlevel[0]],\n",
    "        color=\"gray\",\n",
    "        zorder=-100,\n",
    "        label=\"$E_D(H 1s)$\")\n",
    "    ax.plot(\n",
    "        [x0], [-1.1],\n",
    "        marker=\".\",\n",
    "        color=\"gray\"\n",
    "    )\n",
    "\n",
    "    ax.annotate(\"H\", (x0, -1.05), ha=\"center\")\n",
    "\n",
    "    ax.update({\n",
    "        \"xlim\": (-5, 15),\n",
    "        \"ylim\": (-1.2, 0.2),\n",
    "        \"xlabel\": \"Position in $a_0$\"\n",
    "    })\n",
    "\n",
    "axes[0].update({\n",
    "    \"ylabel\": \"Energy in $E_h$\"\n",
    "})\n",
    "axes[2].legend(\n",
    "    loc=\"upper right\",\n",
    "    frameon=False,\n",
    "    labelspacing=0.2,\n",
    "    borderpad=0.2)\n"
   ]
  }
 ],
 "metadata": {
  "kernelspec": {
   "display_name": "base",
   "language": "python",
   "name": "python3"
  },
  "language_info": {
   "codemirror_mode": {
    "name": "ipython",
    "version": 3
   },
   "file_extension": ".py",
   "mimetype": "text/x-python",
   "name": "python",
   "nbconvert_exporter": "python",
   "pygments_lexer": "ipython3",
   "version": "3.9.12"
  }
 },
 "nbformat": 4,
 "nbformat_minor": 2
}
